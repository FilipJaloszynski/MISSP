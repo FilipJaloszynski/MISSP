{
  "nbformat": 4,
  "nbformat_minor": 0,
  "metadata": {
    "colab": {
      "name": "Untitled7.ipynb",
      "provenance": []
    },
    "kernelspec": {
      "name": "python3",
      "display_name": "Python 3"
    }
  },
  "cells": [
    {
      "cell_type": "markdown",
      "metadata": {
        "id": "oa5n1ZL4BxRj"
      },
      "source": [
        "Na kolejnych zajęciach należało rozwiązać problem liniowy dotyczący układania grafiku. Mianowicie mając wiedze kto ma jakie stawki oraz w jakie dni może pracować należało stworzyć program, który ułoży tak grafik aby zminimalizować koszty zatrudnienia pracowników.\r\n",
        "\r\n",
        "Główna funkcja to suma kosztów zatrudnienia wszystkich pracowników\r\n",
        "\r\n",
        "Zmiennymi decyzyjnymi w tym przypadku są obecności danego pracownika w dany dzień tygodnia.\r\n",
        "\r\n",
        "Ograniczenia są takie, że kazdy pracownik może pracować maksymalnie 3 dni w tygodniu, pracownicy mają podane dni w jakie mogą pracować oraz ilość pracowników potrzebnych danego dnia.\r\n",
        "\r\n",
        "Dane:\r\n",
        "\r\n",
        "![image.png](data:image/png;base64,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)\r\n",
        "\r\n",
        "Kto może w jaki dzień pracować:\r\n",
        "\r\n",
        "![image.png](data:image/png;base64,iVBORw0KGgoAAAANSUhEUgAAAqwAAACcCAYAAAC6J/m0AAAgAElEQVR4Ae2d7XHcOtKFbwqOQSkohxuCYnAKymAzUNXuf0WgCJyAEtgA3i3l4LfO+D52C0NyiBEJosGDKhokPhqNc7qBHgzl+evnRPr3v/89UeoiI2AEjIARMAJGwAgYASPQHoG//u9//7sa1QHrFSQuMAJGwAgYASNgBIyAETgIgb+mxnXAOoWKy4yAETACRsAIGAEjYASOQMAB6xGoe0wjYASMgBEwAkbACBiB1Qj8pdPUqWu1BDc0AkbACBgBI2AEjIARMAI7IjB5wqrx/vrrL1/GwDZgG7AN2AZsA7YB24BtYDcbWBvjLgasa4W4XX8I6AOHU04EzF1O3qS1uTN3eRHIq7n97hzczUY1NoC8BiDNzV9e/syducuLQF7N7XfmLi8CeTWv8TsHrHl5XtS8xggWBbmyOQLmrjnkmw2Ygbu3t7fLB9qnp6fN5j2CoAzcjYDzHnMwd3ug2kZmDXcOWNtw0nyUGiNorpwHXETA3C3C03Vl79x9fHz8/Pbt28+Hh4efunf6g0Dv3P3R1HclAuauRCTPcw13Dljz8FqlaY0RVAl2490RMHe7Q7zbAL1z9/3790vA+v7+vhsGWQX3zl1WXFvobe5aoLzPGDXcOWDdh4NJqTrZ0NUi1RhBC322HuP19XW3rzX1Vanwe3l5WaW22tW0vyV0dO5uzb+mHq56CcDOzt1///vfiy+0WudqbOVW27NzdwufNfUt97ioj7mLaHy+P4qTz1rMP9Vw1zxg/fHjx2VBk5Jcj4+PP/Ve1WipNBTm22KeNUYQ9fn7779/8yIZmoNOZbb++rDEJuqw5v5f//rXRU/peyvVBjVgoDHWJHRZ2/6WzHu5uyV3TT3+KZ+M6fn5+YJ3+d4j5foAcUSCK+ndQzqSu6X5y385XZWO4nePIB/76RWHJYxa66z1Qq9maNy91tml+e5Rp7m0xlHzOGLMJfyiH4BJGefU7ktL4y3VMf5SmyPrarhrHrCyuQNizHvZdLYirwzKmOtW8pfk1BhBlIOOZb4mMIxybt2X2NxqX9ZjR2v0ql0YCILWBqDosrZ9OZfy+V7uSjn3PHNCJh3ihxQttthElAtWBD9g3cqXGb/VeHHuU/dHcjelD2XgBIfKVbZ1ihv11rL3lteSO314iFxwv9Ua8lWs+NaoVh/m8dXxa/u35G6NbuwJ4BFz1irWStbOW3KzcXJrPtTXcHdYwMpiqU2RzbDWOZhwlhyjbaFvjRFEfdARp+Kr93vlRdlb3rMgYEdbysYeFVSDw5J8dNnKfo/Gmvkzd/kodqGccmGiZ50SkQiMYhvq9shbj3drDkdzN6cf/OkDiZL8Whvm1km8M9bWsveW14q7uKby2pF8TOvHVmvIV7G6d007ivtW3K3FFfzYn7aIc5BZayNHcbIWqxruDg9YtYDytQhEaAIimq8b5dQiXAusgggI0LPKSXqtgM1WMuPXlLFO/dWOTRVD0Hgk5PDpR+PQT23YKCUX/dWH9mqDnsiMz2rHXGIf2n4111j3JHQssYnylrDUmPdgIzvgE6fGivxIpjCCE+FNWxYEOER/5WwG6MOcZBfIUrtoK6Uc+kgWPIs32Qq2Rx/lSpyeSMd7knQ6MuF3zEd8Sycwo1zYqFzzVQJnlXExj7U2I26EL9jdsgvGlC7iAx3hnvFb5Zp3j4m1Rlxht1FP6S0s4R785Hf4mtrIB6hTf8miXmNg+xEHycR3VC6O9ljz4nzuuY8639N/bR/wwm/KfviV9OFSH8qFH6nkS+X4gLgRzviIZLF20Z+1i/VN9ZQxtnKNrXTLH+mjthobu9ubb43bUwJDYa80FefAC9hiF2C4tC9FTtQfzlUuORqPhDw9t+SE8W/l0m9tmm1ZI2TtYGoHkYBILsMGZMrI1Uek8BxzOaySiIjl3KuODZeymGtM+rIQqIw2yOdTMc8YG+3IZSwkysrnuLHGoJp2W+Qa+56EzmXOvG9hqTHvwSZuaIwdbYKFjzpyFoQpu2JjRR/Z0JJ+4kVyGIs5wz1jklPP2MppK1uSvHuS5B+Z4BhsNU/pVJYzb2wYnMGHedAvlnOPz5d9GfuWXdBP3BIszQUCLTBlzi3GqhkDuwR3YRTtk3JycStu8AXKyeG83GSpV06KZdyz1tKmhzzqvKc+2Kz8YipN7XXsK/ABd/gHeLJ38YyPgjs5Y0/VT5WxdjIecpRLJ/yYcuknHfSMrUzNdasyjdNTmsKwxAo7AFuewZBcWE7JUz/4pi05/AsTylpzspYP6bc2zbasEbJ2MLWbAl7OGD+BATBOJaBFjAxf90oKRtROJCuxqUoW7anDcTS2kuoxDspwRMaRbDkixLMwoyf9WfjjpnwZJBhK+YysPR35Xv7Anly4gJHmsQbLWmzATv3gF4zEMwu4dBE/akNwoj4xiR94Qxb6sDAId3hUG7innvbMmzljj+qLfWhstdMzOqs9Y0fd1t5L1tEJ/qWH5iOMlNgwdQ9Oca6UgSX9JQ881Z52lPHMhwC1uWUXUQewPzJYlT49cCc9ppI4ASfpKU7hDr6xcZWXa6pkUia+lOgH36zLEQeVyW+V8J1Yf6no4J9WOpXrydzUxYHayudYr1j3tIYJU+mMT6o9+CtXEi9wqmf4x+9Yu8Sn+utSopx2Klvjj9JHF+PsucddFP3nn1bcxTGX7sEPPMAEHtWXNQ/fifLEQ7kvITNygj/GdZN+jIUOrTmJ81m6r+FudmesEbKkTFkH6Cx4Zb2eATjWiUA5K2TQBjlL5NM2ykMPyId4ObrG0SLA4qCFQc8amzQ1XjnO3DMLFosKMrfMNfY9CZ2nnEjyqI+ySyxrsaE/smMujKSLyuBaY9MnlslBxZPwZeFV21IfLbyUxbGYM3XYRmwT7zVW1AVeZSdx/Eujin80xtEJDNiktNgpsejBieYcE/3AUnVgFtvBHxhP9aMN/WOO79AP7NEzjtXyvgfubs0XP5Gu8AS2sS/Y0kZ18K46pbIf9REH8Qg/tI/1ccwj71vpBK4EGVNz1vohzLTGEHioXfRHBYPSmb1Lz/hn/ICgMsmJ2ON3+BjP6DJVTlmUwz3+yDN8U47cvXKN21MCK/xkSjfsAP+6tS8hUzkJGeAec+yGstacoOOtvIa7WZZrhNxSKNYD+hKRABz7ETzyiU2OoHbIoV7OKWeXw4ogJYJciGYxUH8cSuTqGeeWvLg4qE5lJAwFY1O52ugizT0zlhYRFhb6bJVHPWpkonOcV+y/BstabFh41W8q0GMTJBBUG/iGf2EqPMV5KSPqI7w1R8lSwk5Uxpxpj70wZ9nDVMKmlbNhLG1GUzJi2b3cRRlfvWdO5SIHV3PzBDu1gwfwA0+Vl3LpBwfSn7FUh6xyXvQTN4wzx1PZd4/nHrgr5yVMhRMbmLAEK/CW3qXu+BhrquTGMj3TD9msy8iCQ9ZO1j7qS12PfG6lU8SI/Uec6F4+gn9oPQPXiIvKdYkX8aj20h2fVBkJnrXOqR384Yv4Oc/0oxze1Bcul/xReuiCZ+m51x6HrspbcRfHXLoHP2E1l1i75INr9iVkRk7gc2m/OYqTuXmX5TXc/YmuCik1Qoqui4+AvkQkAEdBEEMdOXJEOmUxlwzGjOW6lzPJEUk4t+rknEqxT9wIo7HRn7ZrntEJ/emzVS5d7knMgY2slIHetCOPWNZiIw7UH1kx1/hL9eDHYh37SlelqA8LQ2zHPXOmPf3n5lzW6znqirwSw1vP0ufoxIYDNmycJX7RJ6Rz6acqm8Pvls1ELNGDHHzgSljrUn2US7tWucbvLYEL2JET7EhfyqLuc/3UVnVK4E//mKueICeWcx/H6uFeerVIsms+sIEFuXwlBrSUC2dS9DHdK0UeYvAS9zRkKZ9au5CvvORNfK/xR8aQDPw+6h7H2PJe4/aU1swdzoRtua6Co3J8bYoT1cW23EfMKRM+a/RqjaP0W5tmW9YIWTuY2uGMCjDmUgSYNiIUgrUh8TVIJEaE4qDK9UwSUdRJvsZnE6YNMlUv51QiENKYMaELxqQ69YvtynmUzyxafMqO8r96r7HuSdJffUtsoqxbWN6DjcYDa3CKc1A9/ClXoKR67Giqr/RUKvUR3sxTHNAXLnmOvJRz1tjIVx6f0S3aQsTv1n2c9622e9aDUTkPeCjLpUvJE/qV+AnjaGMlR/S7ZRdlP3xY8o9IvXBXzj3iL94U6GhNJUnvKd1ly6xTqtd9/JCidRIOJFfj6DnaRgywxAvyGLuXfGr+e+km3IRL9CU9q5w9Ek6UC1MS64vK4SL2iX6lNY0xlMOFeFJSLjk8M0bJKzJv+SM6Iweu41pK3Za5xu0pwcfSOoTfsO+oj/xGcxFu6qt76uc4KX1UfaK96FkXqRUnjHcrj7rdbDvXoEbInAyXH4eA+TsO+6+ObO6+iuBx/c3dcdh/dWRz91UEj+s/GncKThW8KrgcPdVw9yfsLlCpEVJ09WMHCJi/Dki4UwVzdydwHXQzdx2QcKcK5u5O4DroNhp3nHzHb4k7gHkXFWq4c8C6CwXHC60xguO1tQYRAXMX0ch1b+5y8RW1NXcRjVz3o3GnVy94PUCvcYycarhzwDqoJdQYwaAQpJ2WuUtL3ad3xfLO4pya2+/y8m7uzsHdYsAqI/BlDGwDtgHbgG3ANmAbsA3YBvawgbXh9mLAulaI2/WHgIzKKScC5i4nb9La3Jm7vAjk1dx+dw7uZqMaG0BeA5Dm5i8vf+bO3OVFIK/m9jtzlxeBvJrX+J0D1rw8L2peYwSLglzZHAFz1xzyzQY0d5tB2VyQuWsO+WYDmrvNoGwuqIY7B6zN6WkzYI0RtNHIo6xFwNytRaq/duauP07WamTu1iLVXztz1x8nazWq4c4B61pUk7WrMYJkUxteXXOXl2JzZ+7yIpBXc/vdObhzwJqX50XN7cCL8HRdae66pmdROXO3CE/Xleaua3oWlTN3i/B0XVnD3TABKz9lpsnH39GtYUr/Ua+uEVKNEWSar37/XHMb+T9THpU7/Sa25sY1Ioejcqc1YnTfG5U7+12mHe5aV/vdH0yGCVhfXl4uGyG/DqFfiqhNDlhrEWvbXj9TN3KwA5ojbpxsmsqVWIT1E4QjpRG5Ez9n8L0RubPf5V5d7Hef+RsmYH18fLycjkLw8/Pz55me7Gm0xZcAR/zqBH3E0zlMdDTuNC/xVX7zobKHhwemPUQ+Indn8b0RubPf5V1W7HfX3A0RsEKsnJP7ciPUZqkF6e3t7bJJ6l5BbjyJVRmLll4xeHp6+v17virXs8ozJOaRQddaHR2w1iJ2fHv5Y3mayofL47XbToOR/U4ojex7I3Jnv9vOt4+UZL/7hf4QASuvA2gDVFIgqsUnBqMErCqPl4JQEuV65qsUysiznNxK31HTyM4rzkbkzhvnGN44su/Z7/La6IjcRTbsd7/QmI1qMhkAASqnnwSwOnElEbCqTO100qo5xnnGZ53UKgAuZUpOhhTnlUHfGh1Hdl7hMCJ3DlhrLLzftiP7nv2uX7u7pdmI3MU52+9+oZE+YNUpqox16op/8S/C1YY/+tD06YNhxGcFqgputdFSrlxyMiTpOmoa2XnF2YjcOWAdwxtH9j37XV4bHZG7yIb97hcas1FNFgPQV/TSde7SSaqSCFebtQGrglW15zUDTm0lJ0OS7qOmkZ1XnI3InTgrfUc+VpZlt9kRuYucjOx7I3Jnv4vWm/fefveLu9moJovzcgKqr/BjIpDVpqgkwjWn2oBVfeIlORlSFv7uwXJk5xUeI3LHH1jhf/xxJB8I77GDHvuMyF3EeWTfG5E7+1203rz39rtf3KUOWHkdYCqIpI5FSG10z4ap6es5vjagZ9prQ6WP2hAAT43Voxswjx51u0cnAhw4Is/CR82cR+OOuet/CYA35aMFq5rniNydxfdG5E42ab9jBcqV2++u+UodsF5PxyUgMOriy/xGzs1dXnbNnbnLi0Beze135+DOAWtenhc1twMvwtN1pbnrmp5F5czdIjxdV5q7rulZVM7cLcLTdWUNdw5Yu6byfuVqjOD+UdxzDwTM3R6otpFp7trgvMco5m4PVNvINHdtcN5jlBruFgNWCfJlDGwDtgHbgG3ANmAbsA3YBvawgbWB8GLAulaI2/WHgIzKKScC5i4nb9La3Jm7vAjk1dx+dw7uZqMaG0BeA5Dm5i8vf+bO3OVFIK/m9jtzlxeBvJrX+J0D1rw8L2peYwSLglzZHAFz1xzyzQY0d5tB2VyQuWsO+WYDmrvNoGwuqIY7B6zN6WkzYI0RtNHIo6xFwNytRaq/duauP07WamTu1iLVXztz1x8nazWq4c4B61pUk7WrMYJkUxteXXOXl2JzZ+7yIpBXc/vdObg7fcCqX8Ti5131a1ajJDtwXibNnbnLi0Beze135i4vAnk1r/G7NAGrAsunp6ff/82W7j8+Pr7MEsGqQBvpZz5rjODLIDYSoJ/V1by4vn//3mjktsOMyB0I8nOD5g5E8uTmLg9XUdMzrJujrpnmLlryz58pAlYFpt++ffsdqBCw6DeSSdTzvDZHlsbQgjxKGs2BcVzlSmye0QbMXd8IvL6+/vZhB6x9c1VqZ+5KRHI8n2XdHG2/k3WZu2sfSxGwQtzj4+PlVFXBpQKVGKwQeF5Pcb5Ep7b39JuX2E/NaA6sAKc8AVeZTshHS6NxJ374gKHARzw6YM1jteYuD1elpmdZN0dcM81dac1JTlhjYPny8nI1C4JOcgIbBbZ6L5XTVwU39CcIpo9y1Wks9adcfeO7rQqSaUs7ydVG3FOSjiMlYRw/oGhunPqMNE/NZTTuSn4csJaI5Hk2d3m4kqZnWTdHXDPN3bWvzUY1vRmAPm1IJ10KImPwQjm5FlWl2Ic65W9vb7+P22O5AlYC0lhOH8mcq5dOPSXpPFI6i/OKs9G4K+3QQU+JSJ5nc5eHK2l6lnVzxDXT3F372mxU06MB6ERNrwVIN136wysSZTzrdFVlCiR5N1UBaewXT1nppzIFtCT+0IsAmYBVekiuLo0huerbS5I+I6WzOK84G4270g4d9JSI5Hk2d3m4kqZnWTdHXDPN3bWvzUY1PRsAXwVHHXUfn2MwSh05gW5sAzT8bwQEofQpA1ae1U+LuNo5YAXF7fOzOK+Qky2NnBz05GXX3OXi7izr5ohrprm79rXZnbEnA1BwqPdIOSmN77QyJemrS234i389xxNW2pJPBawykiiH1woIUJWrnmfJcsAKovvlwlhXTFMvpcf6rPeyr5GTg5687Jq7XNydZd0ccc00d9e+Nrsz9mQABInSKV6clGpaBJqqF9FKymN77jkJXQpYaUtOgIouPMdxkHsZ/OB/pPdIiVN1MNYHE81R5aOl0bgr+ZFf6sPGiMnc5WV1RO7Osm6au3P43WxU05MB6MRUGxxf03NUrnKSHJN6NsOyn+aki6CHk1r1I6mO4Fe5ZKkPAepSwCp5vaSe+NsKE7CHxxGDVWE1Ind8wIA7cj5cbmUjR8sxd0czcP/4I3InNM6wbpq7++3+6J413KUIWI8GNOP4NUaQcX4j62zu8rJr7sxdXgTyam6/Owd3Dljz8ryouR14EZ6uK81d1/QsKmfuFuHputLcdU3PonLmbhGeritruHPA2jWV9ytXYwT3j+KeeyBg7vZAtY1Mc9cG5z1GMXd7oNpGprlrg/Meo9Rw54B1DwY6kFljBB2oaxUCAuYugJHs1twlIyyoa+4CGMluzV0ywoK6NdwtBqwS5MsY2AZsA7YB24BtwDZgG7AN7GEDIX5dvF0MWBd7urJrBGRUTjkRMHc5eZPW5s7c5UUgr+b2u3NwNxvV2ADyGoA0N395+TN35i4vAnk1t9+Zu7wI5NW8xu8csObleVHzGiNYFOTK5giYu+aQbzagudsMyuaCzF1zyDcb0NxtBmVzQTXcOWBtTk+bAWuMoI1GHmUtAuZuLVL9tTN3/XGyViNztxap/tqZu/44WatRDXcOWNeimqxdjREkm9rw6pq7vBSbO3OXF4G8mtvvzsHdqQJW/QRr/BnWvBTf1twOfBujXluYu16Zua2XubuNUa8tzF2vzNzWy9zdxqjXFjXcdR+wvry8XP6A6Onp6RPe/D6y6tcmAVMDzlq5PbYbdZ78Jv337997hH0TnUbl7sePHxf/ww9H5NDcbeIChwgZlTuBOfq6OSp3XjM/LwXdB6wEpn///fcnzSlXvjaxUc611+nrKIY/yjwiV6+vr78DnhGDHeY6IncsvMqV2EBr/Bd8es7NXc/sLOs2Inea8RnWzRG585p57a8OWAMmMvpRDH+UeUAPAY4WX314ccAKMjly8VV+6FTZw8NDjgms1HI0v9O0zd1K8jtsdpZ1037XofGtVKmGu6ECVn0ieXx8/H0Kp9cI5LAkAQM47+/vl/dZ9ax76sjj5qpTIG2s1E3JVfvn5+dLm5rXFNBt61y6jpocsOZjVv5TnqZy8pNvNvMaj+h35m6e70w1I6+b9rtMlvhZ1xruZqOaGiGfh9/2SZucdJm72AT5JFm2UwBLou7j4+N3YKtNU4k6cgJWglDKyePJEGXk6MS4R+TSZdQ08sIrzkbkzkFPXm80d3m5i5qPvG56zYxM57qv4W42qqkRsic8awNWAkvlSgpKtdBqHjpBVdK9Lp2QKidYvVSGep4lgz7x3TvedaWMNm9vb5eu6nd0kk6jppEXXnE2IncOevJ6o7nLy13UfOR102tmZDrXfQ13s1FNjZA94SFglbPFRDmnmaqXzlNXGbDy2kD51T19GYeXnsuxGasMWOnXQ94Lf3tgIfz9DuseyO4n00HPftjuLdnc7Y1wG/kjr5sj7nf2u2u/GCZgVQAjo+WE9Xqqf05YeWdVJ6VT77iqTKek8TUDglP15YS1DISnxjyqbEQHBsuRF17NcUTuxJmumKb+mCfWZ7w3dxlZ+6XziNxFNkZeN0fkzmtmtN5/fPS66J+KTr5S5iS13Owo54SV01AZbrxiP8o1Q/rHen2ioQ3lyimLOfWSRfkclkeUS6dRk7D3CWsudvkDKz748WGwfC0n16yutR3R78zdNc8ZS0ZeN+13GS3yl8413M1GNTVC9oSq5ocD9A4pX/dLf11LgSVteTVACzOnpwREOmnVPeXK9RzfU2WsPXGold0Lf7V6z7UnwAFr8sjvXN9s5aNxB/58SIS70YJVzdPcwXa+fETuzrJujsidPMhr5ud1pPuA9bO6flqLwKgOvHb+mduZu7zsmTtzlxeBvJrb787BnQPWvDwvam4HXoSn60pz1zU9i8qZu0V4uq40d13Ts6icuVuEp+vKGu4csHZN5f3K1RjB/aO45x4ImLs9UG0j09y1wXmPUczdHqi2kWnu2uC8xyg13C0GrBLkyxjYBmwDtgHbgG3ANmAbsA3sYQNrA+HFgHWtELfrDwEZlVNOBMxdTt6ktbkzd3kRyKu5/e4c3M1GNTaAvAYgzc1fXv7MnbnLi0Beze135i4vAnk1r/E7B6x5eV7UvMYIFgW5sjkC5q455JsNaO42g7K5IHPXHPLNBjR3m0HZXFANdw5Ym9PTZsAaI2ijkUdZi4C5W4tUf+3MXX+crNXI3K1Fqr925q4/TtZqVMOdA9a1qCZrV2MEyaY2vLrmLi/F5s7c5UUgr+b2u3Nwd7qAlV/O4tet1tD8/v7+k59tfX5+XtPl8DZ24MMpuFsBc3c3dId3NHeHU3C3AububugO72juDqfgbgVquBsqYNXPmPFzqwJBQabK4s+o8lNnytcmglXJzPJToDVGsBaHo9vpd+g1Ly5+PvdovbYef0TuwIifijR3IJInN3d5uCo1NXclIjmez7Dn1ex3wwSsCiQJZMo8Bpn3BKzIU+Arx8+Qaowgw3xwXOVKLMA1HzwyzFM6jsYduL++vv72UQesoJIjN3c5eJrS0txNodJ/2Vn2vJr9boiANTqk7kl8/S9A3t7eLsW1AateB1D/GlAZ/8g8m763sFKAEz94qL3KdPo9WhqNO/HDBwz5p3h0wJrHas1dHq5KTc1diUie57PseTX73RAB69PT0yWgnHq/tKwrA1YFpPF09tu3bz+RwyccAcpV8+7rka5RYwRH6rl2bF7viO35oBLLRrgfjbuSEwesJSJ5ns1dHq5KTc1diUjfz2fZ82r2uyECVgJOTlGjGRKgqo0Sz8rjMwEpuWQ5YL1A1MU/Z3FegV3jwF2QU6mEN85KwDpqbu46IqNSFXNXCdjBzc+y59Xsd0MFrLzfGO2MAHUuYFWfGOhyIktAG4PWKLf3+xoj6H0u0u8szqu5jsZdaV/eOEtE8jybuzxclZqauxKRvp/PsufV7HdDBax8lR/NUE4qQAhACWB51isBClL1KoDacVHvgDWiedz9WZxXCNc48HGM3D+yN877sTu6p7k7moH7xzd392N3RM+z7Hk1+90QAStBqIJOTln1F/3xj64UmCrRloBURiHA9HK6+uhFZz1T74D1CFe9HlOLra6Ypl5Kj/VZ72scOOMcvXFmZO2XzubO3PWIwIhr5ln2vBruhghYFWgSeGry5RVPXucC1rKPA9a+liX+wIoPJPGvX/vS9Ova1Djw10drL8FBT3vMtxrR3G2FZHs55q495l8Z8Sx7Xs1+N0TAKqPgdDQGrvoRAZEeUxmwKgCij/LyhJX/1kqnt5lSjRFkmRfc8eGi5DbLPG7pOSJ3fMCAO3JtoiMlc5eXTXNn7npD4Ax7Xo3fDROw9mZoR+tTYwRH6+rxPyNg7j7jkenJ3GVi67Ou5u4zHpmezF0mtj7rWsOdA9bP2A3zVGMEw0x6kImYu7xEmjtzlxeBvJrb787BnQPWvDwvam4HXoSn60pz1zU9i8qZu0V4uq40d13Ts6icuVuEp+vKGu4csHZN5f3K1RjB/aO45x4ImLs9UG0j09y1wXmPUczdHqi2kWnu2uC8xyg13C0GrBLkyxjYBmwDtp9ir3MAAAkDSURBVAHbgG3ANmAbsA3sYQNrA+HFgHWtELfrDwEZlVNOBMxdTt6ktbkzd3kRyKu5/e4c3M1GNTaAvAYgzc1fXv7MnbnLi0Beze135i4vAnk1r/E7B6x5eV7UvMYIFgW5sjkC5q455JsNaO42g7K5IHPXHPLNBjR3m0HZXFANdw5Ym9PTZsAaI2ijkUdZi4C5W4tUf+3MXX+crNXI3K1Fqr925q4/TtZqVMOdA9a1qCZrV2MEyaY2vLrmLi/F5s7c5UUgr+b2u3Nwd+qAlZ9hfXl5ycv2jOZ24BlgEhSbuwQkzaho7maASVBs7hKQNKOiuZsBJkFxDXfpA9Zv375d/sDo/f39EzV6FhBPT0+fyuODfsdcbfR7vUoKXPU8QgBbYwQRk97v+U16fdgYNY3K3Y8fPy7+pfnpGpFDc5fXK82duesNAa+ZnxlJH7Cy+YnYmBywzlIbYUp1//r6+jvgGTHYgYwRN04WXvyUDx58WGTu2XNzl5dBc2fuekLAa+Y1G7NRTRbnlZ662AivpzhfUp6wzrfMV5OFv7XIEuAoaBVvDljXItdHO/El3mJS2cPDQyxKfz+a34kQc5fXLM2duesdgZo1c9iAlU8ncZNUsKMNUgCp/PHx8XLPKY9y1fGsU1q1U5kuvX7w/PzcO/8X/aTvqEmcaCEeNY3InfwOv4I3Tsx5HiE3d3lZNHfmricEvGZeszEb1WRxXumpqzxhLQNWXhGgfczZSMuAlefYVvdvb2/XSHZWIj1HTQ5Y8zHrxTcfZ2hs7kAiX27u8nGGxuYOJP7ks1FNloCHYPJWwErwqT/C+vj4+KmvmG+dsEpmDE7VV+MR4P6Bsb+7LPzdg5wD1ntQO7aPF99j8f/K6ObuK+gd29fcHYv/V0Y3d9fonS5gjcEmX/dTRlDLs05lFaTyPxEQHFN/DWc/JQ5Y++GiVpMRufPiW2sF/bQ3d/1wUauJuatFrJ/25u6ai9MFrPw3V2tOWGUwCh7UVqeyem9Szw5Yrw2pZYlPWFuivc1Y4kxXTFN/EBLrM96P+GHD3GW0xF86mztz1zsCNWvmMAGrJs2loLR8h5Vn2sScAFS5ynkmYI1tY33PhiA9R01ahP1HV7nY5Q+seHUn/q8PuWayrO2Ifmfuljnvudbc9czOsm7m7hqf2agmy8LLe6jSl2sqYNXUZQB8va+gp/yhgDJg1eZK0KrcJ6zXBtSqhAAHjsnF42hJcxsx4V9wJ38cLZm7vIyaO3PXGwJeMz8zMrszjuq8n6c/7pP5y8utuTN3eRHIq7n9ztzlRSCv5jV+54A1L8+LmtcYwaIgVzZHwNw1h3yzAc3dZlA2F2TumkO+2YDmbjMomwuq4c4Ba3N62gxYYwRtNPIoaxEwd2uR6q+dueuPk7Uambu1SPXXztz1x8lajWq4WwxYJciXMbAN2AZsA7YB24BtwDZgG9jDBlYHt3MNpZRTXgTMn7nLi0Beze135i4vAnk1t9+dg7vZqNQGkNcApLn5y8ufuTN3eRHIq7n9ztzlRSCv5jV+54A1L8+LmtcYwaIgVzZHwNw1h3yzAc3dZlA2F2TumkO+2YDmbjMomwuq4c4Ba3N62gxYYwRtNPIoaxEwd2uR6q+dueuPk7Uambu1SPXXztz1x8lajWq4c8C6FtVk7WqMINnUhlfX3OWl2NyZu7wI5NXcfncO7hyw5uV5UXM78CI8XVeau67pWVTO3C3C03WlueuankXlzN0iPF1X1nCXOmAtf7ZME9fPsr6/v/8mSD/FqutsqcYIMmHDT7TqZ3JHTaNyp5861ty4RuTQ3OX1SnNn7npDwGvmZ0ZSB6z6HXk2v5grQP34+LjMtDZgVbArWdl/o37ExVe/PQ/PIwY7uOaI3LHwKlfig4c+dI6UzF1eNs2duesJAa+Z12wMEbCy6bEJauFhY7ye8nIJRuKAdRmn1rVwq6BV3Dhgbc3A18YTX6VPqezh4eFrgjvrPWLQY+46M7IKdcxdBVidNTV314QMFbASbMaAVfdxE9HJqwxBJ68qV/78/Hw5kY396UcwrM1WZQqY1EevHvSc4px71vMe3Ryw3oPasX0UmOJLaMKJOc8j5CP6nbnLa5nmztz1jkDNmjlEwKoJx+vx8fE3R5RToDrKYq4gdk3ASp/ytAj5veTSc9TkgDUfs94483GGxuYOJPLl5i4fZ2hs7kDiTz4b1WQIeDj1JIjUyacCT95f1TSp0/3b29vlWYagr5hjGfMlaC0DUsbSaaxSHONS0Nk/zKcztTZRxwHrJjA2FeLFtyncmw5m7jaFs6kwc9cU7k0HM3fXcA4RsJZfNcZpxoBV7fRcto9tbgWsqs+QHLBmYGlaxxG58+I7zXWGUnOXgaVpHc3dNC4ZSs3dNUunClh5Z06GwAkrZTqdVSJgVRslTlI5YXXAeoHl0H98wnoo/HcNLs50xTT1RwWxPuP9iB82zF1GS/yls7kzd70jULNmnipgVfCpwFQAlRenrvw1OvWUy/FV5oD1ePMXFwp2Rk2ys9ESHwzxH/xM5SMlc5eXTXNn7npCwGvmNRuzO2MG59Vf6kvPl5eX65n9U6L6OBf9P6v0U/nUsbveU6UfG6oD1lmIm1QQ4MALuXgZLWluIyZeyYE7fGukuZq7vGyaO3PXGwJeMz8zMrszjuq8n6c/7pP5y8utuTN3eRHIq7n9ztzlRSCv5jV+54A1L8+LmtcYwaIgVzZHwNw1h3yzAc3dZlA2F2TumkO+2YDmbjMomwuq4c4Ba3N62gxYYwRtNPIoaxEwd2uR6q+dueuPk7Uambu1SPXXztz1x8lajWq4WwxYJciXMbAN2AZsA7YB24BtwDZgG9jDBlYHt2sbup0RMAJGwAgYASNgBIyAEdgSgf/85z8/11yzJ6xbKmNZRsAIGAEjYASMgBEwAkagREDB6pq0GLDq6NfJCBgBI2AEjIARMAJGwAjsgYAD1j1QtUwjYASMgBEwAkbACBiBzRBwwLoZlBZkBIyAETACRsAIGAEjsAcCDlj3QNUyjYARMAJGwAgYASNgBDZDwAHrZlBakBEwAkbACBgBI2AEjMAeCKwNWP8f9Z2gMb3vKWgAAAAASUVORK5CYII=)\r\n",
        "\r\n",
        "Zarobki:\r\n",
        "\r\n",
        "![image.png](data:image/png;base64,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)\r\n",
        "\r\n",
        "\r\n",
        "\r\n"
      ]
    },
    {
      "cell_type": "markdown",
      "metadata": {
        "id": "oKgHprTbpCD5"
      },
      "source": [
        "Standardowa instalacja pulpa"
      ]
    },
    {
      "cell_type": "code",
      "metadata": {
        "id": "3ZD5jtij-zeI"
      },
      "source": [
        "\r\n",
        "!pip install pulp\r\n",
        "\r\n",
        "!sudo apt-get install coinor-cbc glpk-utils coinor-clp"
      ],
      "execution_count": null,
      "outputs": []
    },
    {
      "cell_type": "code",
      "metadata": {
        "colab": {
          "base_uri": "https://localhost:8080/"
        },
        "id": "admszDaIpH_C",
        "outputId": "f45df95a-9969-4119-ff50-0fe9ef8ebde6"
      },
      "source": [
        "from pulp import *\r\n",
        "import numpy as np\r\n",
        "\r\n",
        "# Name and type of problem\r\n",
        "prob = LpProblem(\"Optymalizacja_grafiku\",LpMinimize)\r\n",
        "\r\n",
        "# Boolean variables for five days in week for each of six workers\r\n",
        "A1 = LpVariable(\"Ania_poniedzialek\", 0, 1, LpInteger)\r\n",
        "A2 = LpVariable(\"Ania_wtorek\", 0, 1, LpInteger)\r\n",
        "A3 = LpVariable(\"Ania_sroda\", 0, 1, LpInteger)\r\n",
        "A4 = LpVariable(\"Ania_czwartek\", 0, 1, LpInteger)\r\n",
        "A5 = LpVariable(\"Ania_piatek\", 0, 1, LpInteger)\r\n",
        "S1 = LpVariable(\"Stefan_poniedzialek\", 0, 1, LpInteger)\r\n",
        "S2 = LpVariable(\"Stefan_wtorek\", 0, 1, LpInteger)\r\n",
        "S3 = LpVariable(\"Stefan_sroda\", 0, 1, LpInteger)\r\n",
        "S4 = LpVariable(\"Stefan_czwartek\", 0, 1, LpInteger)\r\n",
        "S5 = LpVariable(\"Stefan_piatek\", 0, 1, LpInteger)\r\n",
        "H1 = LpVariable(\"Hektor_poniedzialek\", 0, 1, LpInteger)\r\n",
        "H2 = LpVariable(\"Hektor_wtorek\", 0, 1, LpInteger)\r\n",
        "H3 = LpVariable(\"Hektor_sroda\", 0, 1, LpInteger)\r\n",
        "H4 = LpVariable(\"Hektor_czwartek\", 0, 1, LpInteger)\r\n",
        "H5 = LpVariable(\"Hektor_piatek\", 0, 1, LpInteger)\r\n",
        "O1 = LpVariable(\"Olaf_poniedzialek\", 0, 1, LpInteger)\r\n",
        "O2 = LpVariable(\"Olaf_wtorek\", 0, 1, LpInteger)\r\n",
        "O3 = LpVariable(\"Olaf_sroda\", 0, 1, LpInteger)\r\n",
        "O4 = LpVariable(\"Olaf_czwartek\", 0, 1, LpInteger)\r\n",
        "O5 = LpVariable(\"Olaf_piatek\", 0, 1, LpInteger)\r\n",
        "L1 = LpVariable(\"Lidia_poniedzialek\", 0, 1, LpInteger)\r\n",
        "L2 = LpVariable(\"Lidia_wtorek\", 0, 1, LpInteger)\r\n",
        "L3 = LpVariable(\"Lidia_sroda\", 0, 1, LpInteger)\r\n",
        "L4 = LpVariable(\"Lidia_czwartek\", 0, 1, LpInteger)\r\n",
        "L5 = LpVariable(\"Lidia_piatek\", 0, 1, LpInteger)\r\n",
        "P1 = LpVariable(\"Piotr_poniedzialek\", 0, 1, LpInteger)\r\n",
        "P2 = LpVariable(\"Piotr_wtorek\", 0, 1, LpInteger)\r\n",
        "P3 = LpVariable(\"Piotr_sroda\", 0, 1, LpInteger)\r\n",
        "P4 = LpVariable(\"Piotr_czwartek\", 0, 1, LpInteger)\r\n",
        "P5 = LpVariable(\"Piotr_piatek\", 0, 1, LpInteger)\r\n",
        "\r\n",
        "# Daily cost every employes\r\n",
        "Ac = 100\r\n",
        "Sc = 50\r\n",
        "Hc = 60\r\n",
        "Oc = 40\r\n",
        "Lc = 110\r\n",
        "Pc = 70\r\n",
        "\r\n",
        "# The main function for sum of each worker wage\r\n",
        "prob += (A1+A2+A3+A4+A5) * Ac + (S1+S2+S3+S4+S5) * Sc + (H1+H2+H3+H4+H5) * Hc + (O1+O2+O3+O4+O5) * Oc + (L1+L2+L3+L4+L5) * Lc + (P1+P2+P3+P4+P5) * Pc, \"min_cost\"\r\n",
        "\r\n",
        "### Constraints\r\n",
        "# None of the employees may work more than 3 days a week\r\n",
        "prob += A1+A2+A3+A4+A5 <= 3, \"1\" \r\n",
        "prob += S1+S2+S3+S4+S5 <= 3, \"2\" \r\n",
        "prob += H1+H2+H3+H4+H5 <= 3, \"3\" \r\n",
        "prob += O1+O2+O3+O4+O5 <= 3, \"4\"\r\n",
        "prob += L1+L2+L3+L4+L5 <= 3, \"5\"\r\n",
        "prob += P1+P2+P3+P4+P5 <= 3, \"6\"\r\n",
        "\r\n",
        "# Days when a worker doesn't work\r\n",
        "prob += S2+S3+S4+S5 == 0 , \"7\"\r\n",
        "prob += H4+H5 == 0, \"8\"\r\n",
        "prob += L1+L2+L3 == 0, \"9\"\r\n",
        "prob += P4+P5 == 0, \"10\"\r\n",
        "\r\n",
        "# The necessary number of employees in the store each day\r\n",
        "prob += A1+S1+H1+O1+L1+P1 == 2, \"Poniedzialek\"\r\n",
        "prob += A2+S2+H2+O2+L2+P2 == 1, \"Wtorek\"\r\n",
        "prob += A3+S3+H3+O3+L3+P3 == 1, \"Sroda\"\r\n",
        "prob += A4+S4+H4+O4+L4+P4 == 1, \"Czwartek\"\r\n",
        "prob += A5+S5+H5+O5+L5+P5 == 3, \"Piatek\"\r\n",
        "\r\n",
        "\r\n",
        "# The solution of problem\r\n",
        "prob.solve()\r\n",
        "print(\"Status:\", LpStatus[prob.status], \"\\n\")\r\n",
        "\r\n",
        "print(\"Minimalne koszty:\", value(prob.objective), \"zl\\n\") \r\n",
        "\r\n",
        "for v in prob.variables():\r\n",
        "    print(v.name, \"=\", v.varValue)"
      ],
      "execution_count": 17,
      "outputs": [
        {
          "output_type": "stream",
          "text": [
            "Status: Optimal \n",
            "\n",
            "Minimalne koszty: 500.0 zl\n",
            "\n",
            "Ania_czwartek = 0.0\n",
            "Ania_piatek = 1.0\n",
            "Ania_poniedzialek = 0.0\n",
            "Ania_sroda = 0.0\n",
            "Ania_wtorek = 0.0\n",
            "Hektor_czwartek = 0.0\n",
            "Hektor_piatek = 0.0\n",
            "Hektor_poniedzialek = 1.0\n",
            "Hektor_sroda = 1.0\n",
            "Hektor_wtorek = 0.0\n",
            "Lidia_czwartek = 0.0\n",
            "Lidia_piatek = 1.0\n",
            "Lidia_poniedzialek = 0.0\n",
            "Lidia_sroda = 0.0\n",
            "Lidia_wtorek = 0.0\n",
            "Olaf_czwartek = 1.0\n",
            "Olaf_piatek = 1.0\n",
            "Olaf_poniedzialek = 0.0\n",
            "Olaf_sroda = 0.0\n",
            "Olaf_wtorek = 1.0\n",
            "Piotr_czwartek = 0.0\n",
            "Piotr_piatek = 0.0\n",
            "Piotr_poniedzialek = 0.0\n",
            "Piotr_sroda = 0.0\n",
            "Piotr_wtorek = 0.0\n",
            "Stefan_czwartek = 0.0\n",
            "Stefan_piatek = 0.0\n",
            "Stefan_poniedzialek = 1.0\n",
            "Stefan_sroda = 0.0\n",
            "Stefan_wtorek = 0.0\n"
          ],
          "name": "stdout"
        }
      ]
    }
  ]
}