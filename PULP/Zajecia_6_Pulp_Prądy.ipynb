{
  "nbformat": 4,
  "nbformat_minor": 0,
  "metadata": {
    "colab": {
      "name": "Untitled6.ipynb",
      "provenance": []
    },
    "kernelspec": {
      "name": "python3",
      "display_name": "Python 3"
    }
  },
  "cells": [
    {
      "cell_type": "markdown",
      "metadata": {
        "id": "UPWxLW212Haz"
      },
      "source": [
        "Kolejnym zadaniem z dziedziny elektrotechniki było rozwiązanie problemu maksymalizacji prądu płynącego przez dwójnik, czyli jaki maksymalny prąd może płynąć przez dwójnik przy znanych wartościach rezystancji oraz maksymalnych prądów mogących płynąć przez dany rezystor. \r\n",
        "\r\n",
        "Układ:\r\n",
        "\r\n",
        "![image.png](data:image/png;base64,iVBORw0KGgoAAAANSUhEUgAAAgMAAAByCAYAAADOOtIaAAAeF0lEQVR4Ae2dh5MUVdfG3z/CMqGW+GqJCVREQcVAUBQJZlEwVKEllqUiiGJcCSogC5aIAipmARGRKKKCCUFFCgOSRGBZQJAlmdP56jnfd/ZbZHZ3urenz+2Zp6tuzUxPd9/bz7mn769v/I9wowJUgApQASpABUpagf+U9N3z5qkAFaACVIAKUAEhDDATUAEqQAWoABUocQUIAyWeARp6+3/99ZesWLFCysvLpXfv3hpuv/12GTlypGzevFn+/vtvDX/88YesXr1a5s6dKzt27GhotDyfCpSEAvCfDz/8UPr161ftX/3795cpU6bI9u3b1bf++ecfQYBfjRs3TtauXau/sY8bFchXAcJAvkrxuJwKoJB/77335LbbbpPRo0fL66+/Lm+88YY89NBD8swzz8ivv/4qf/75p6xatUr69OmjD7TKysqc1+JOKkAF9lQAvjNmzBi5/vrr1bfgXy+88II88sgjMm/ePPn999+14AeUT5gwQZo1ayaffvppNSTseTX+ogK1K0AYqF0b/pOHAoABPJTwcPr666/l559/ll9++UUWLFgg99xzj769WM3Bgw8+qJCwcePGPK7MQ6gAFQAM4G0f/vXTTz+pf23ZskVefPFFeeWVV/Q3QOCbb76Ru+66Szp16kQYYLaJpQBhIJZsPMkUAAzMnz9fhgwZIsuWLdOaANQG4C1l8ODB+gDD723btsn777+vzQeEAVOPn1SgbgVqwgAgG760fv16GTVqlNbAYR+aC8rKymTmzJlyxRVXyGeffcaagbpl5b85FCAM5BCFu/JXwGoG2rdvL40aNdKw3377yTXXXCNbt24VvLWg3RPHLVy4UGFg06ZN+UfAI6lACSsAGBg7dqwceuihctBBB8mBBx4oRx55pIwYMUL7CPz2229aM/faa69pX4Err7xSPv/8c8JACeeZuLdOGIirHM9TBQwGUAuwZMkSQUGP5gA8wHbt2lX9UAIULFq0iDDAfEMFIihgMAD/qqqq0qa4Bx54QN566y3ZvXu3fP/99/Loo49q7Rw6GqKZADUEqDEAhHOjAvkqQBjIVykel1MBPKzQTDB06FBZvny5VmOuWbNGawbmzJmjNQLo1UwYyCkfd1KBOhWwZgI0w6GJAAAAv7rvvvsUvpcuXSq33HKLQkC7du3kkEMOkW7dugl8ED7HjQrkqwBhIF+leFxOBfDAwRvJ8OHDdcQAHl6oLXjnnXe0A2FFRYW+oeA4tGU+/vjjOuQw58W4kwpQgT0UgN88++yz6l/wLQQ0v2Hf+PHj9TuaCtBxd926ddpnAKMJ4IOsGdhDSv6oRwHCQD0C8e+6FcADB28hH3zwgfz444/V45tRpYl2zO+++04fSjgOYPDxxx9r80HdV+W/VIAKQAH4DSAa/gUwwG98YuTO22+/rTCAfah9Q63BxIkTZcOGDdV+SBWpQL4KEAbyVYrH5VTAmgDsgYTftg9vMTX324MM/3OjAlSgfgXMlwAA5ls4C79r+hf2wb/+va/+GHgEFfhfBQgDzAlUgApQASpABUpcAcJAiWcA3j4VoAJUgApQAcIA88AeCli1JKob0QkJn57B0mDVpHsklj+oQMYUgH9Zdb7lbW//QjroXxnLSAVILmGgAKJm9ZJ4UOHBgHUE9t9/f53gBBOdeAZMsoLQvXt3TRvSyI0KZFUBFPxY1Mvytadv2SRG8HV0PLR1DrKqLdPdMAUIAw3Tr6jORkGLBwLWEujQoYNOIbxz507t/Y8JhNIOiBujEjACATOrYQgVYaCoslzJ3Qz8C5MEYVEvTNGNlQbT9iuLz/wLaxq8+uqr6l+oteBWmgoQBkrT7jnv2mAANQOdO3fWWczwJoMqRK+AiVYwvSpqBggDOc3GnRlSADCAOTmefvrpYPwLMxqiZgD+RRjIUGZKOKmEgYQFzfLlasJA165d3QtfS88XX3xBGMhyxmLaqxUwGMDy3iEUvkgPpg+fNGlSEOmpFopfUleAMJC65OFGaIUvagYIA+HaiSnLrgKEgezarthTThgodgtHuD/CQASxeCgViKEAYSCGaDwlFQUIA6nInI1IsgADbNPMRl5iKvdWwPwLfQZCbCZA/xz61952K5U9hIFSsXQe92kPq9CaCRYvXixXXXVVEB2urCMltELgFr4CsBMKObOd5ycK3GHDhgUFA2VlZdqBEIsd2ZwDnhohbvpX+n5FGEhf8z1itAeV58QjFjceBFgHHUMLu3TpEkwHQsBAx44ddYjhokWLBKuyeQdbgGkPY/JHcAoAAjZv3qyL/XjnGcS/YMEC6d27t44mCKUDIWAASyR/9NFHEop/YdglbEfgTs+lCAPpab1XTMjoKIix2l/79u1l33331cl+MAmIV9hnn30EoVOnTsHAAIYWHnHEEXL++edrujDs0StccMEFmgZU9QKe+LDaK1sHtQP+NX36dM0vsJ1XvrF4kYePP/54GTduXBC999GHAUMLW7ZsKeedd14w/vXJJ5/Qv1L2JMJAyoLXjA4FCZxx48aNcvrpp+sEO5gIxDOAyL/66qvgYODyyy/XCVp++uknXbsdVZppB8QN28ydO1d69erFGdtqZuZAvwPYxo4dq1XzmODHO/8gDQ8//HBQMICagZdfflm2b9+uyyCn7Vc144N/3XLLLTJz5swgYCnQbF2QZBEGCiJrfhc1GNi0aZO0adPGvU0cb1GhNhNYnwG0J6L60CMgbrT5zp8/X2666Sb3mpP8cllpHwXYBgyMGDGi2r888o7FifyDGQhD60CISYfg+3gGWFo9PtF00qdPH5k1axZhIGXXJQykLHjN6AwG0KbZtm1b98LF0hNaB8JQJh0yfd5//33CQM2MHPB3g4GRI0cGUbggPaGOJgilD0Pfvn1l9uzZQdgr4KydeNIIA4lLmv8FrXAhDOTWzPQhDOTWh3vrV4AwULdG0CekGQiRHsJA3TYr1L+EgUIpm8d1rbAjDOQWy/QhDOTWh3vrV4AwULdGhIG69SmlfwkDjta2wo4wkNsIpg9hILc+3Fu/AoSBujUiDNStTyn9SxhwtLYVdoSB3EYwfQgDufXh3voVIAzUrRFhoG59SulfwoCjta2wCxEGMOkQehdjaBZ6GHsFpAHzDPTo0cN9KJ/Zix0IHZ0mYtShwQD8qby8XCcdwpA6b//C6AbMMxDKqoWwF/sMRMzkCR1OGEhIyDiXscIlJBhAoY/Z9Q488EBp1KiRHHTQQXLwwQe7BMSNNCAABpA2aOa1mb0IA14WiB5vaDCAPIxhjpa3Pf0Lfg3fOuCAAxQGACae/gXrEgai5/GkziAMJKVkjOtY4RIKDOAWMLYYDwWbYMdzAiSLe/fu3fqQQNo8N7MXYcDTCtHiDg0GQvUvDCu0NQGiKZzs0YSBZPWMcjXCQBS1Ej7WCpeQYAC3iHThoYWHQwgBaUGaEDw3sxdhwNMK0eIODQaQ+tD8yyDA27+gDWEgWv5O8mjCQJJqRryWFS6hwUDE2yiZw81ehIHsmDxEGMiOeumnlDCQvuYWI2HAlHD4tMKFMOAgfowozV6EgRjiOZ1CGHASPma0hIGYwiVwGmEgARHjXsIKF8JAXAXTPc/slWUYQJMLFqJ67LHHZMCAARoGDx6sHciwSBU6uFVUVOjc+QMHDpS33nor06vHEQbS9ZGGxkYYaKiC8c8nDMTXrsFnWuFCGGiwlKlcwOyVZRhA59DJkydLz549ZdSoUVroYyEfgMG0adNk69atMmPGDHniiSd0gZ/+/fvLxx9/rH1IcP9Z2wgD2bIYYcDPXoQBP+21IxEyP2HA0QgRoi4GGMCb/+uvv67L6GK1TIx1x6gNgABqC6qqqgT7UUuAURzjx49XaLBOZhHkCuJQwkAQZsg7EYSBvKVK/EDCQOKS5n9BK1wIA/lr5nmk2SvLNQOAgSlTpsiQIUNky5YtujLcjh075LnnnpMxY8boRFO4TwTAwKBBg3Ste5yHJoasbYSBbFmMMOBnL8KAn/asGXDUPk7UxQAD1kzQvHlznUgKk940btxY+vXrp3CAGgAU+itXrpQOHTpI586dZf369dqXgDAQJ9fwnCgKEAaiqJXssYSBZPWMdDUrXFgzEEk2t4PNXlmuGTAYQKfBdevWSWVlpdxxxx3yxhtvaJOBzSuB49CE8NFHH0m3bt0UFAgDblmvZCImDPiZmjDgpz1rBhy1jxN1McDAv5sJbO2Hm266SRYuXKhNAz/88IPs2rVLMG89Fom6+uqr5fvvv9cJqOLo5nkOmwk81Y8eN2EgumZJnUEYSErJGNexwoU1AzHEczjF7JXlmgG8+U+dOlWGDx+unQUBB5h6euLEiTJy5EhZsWKFDjN86aWXZNasWfL444/Lk08+qbUErBlwyHQlFiVhwM/ghAE/7Vkz4Kh9nKiLAQZQoC9ZskTefvtthQD8RsDiVACCtWvXypo1a2TYsGFy66236giD7du3a16No5n3OawZ8LZAtPgJA9H0SvJowkCSaka8lhUurBmIKJzT4WavLNcM4B6sXwC+I2DDPtQS2CcWrkHAwxn7sroRBrJlOcKAn70IA37as2bAUfs4URcDDMS57yyfQxjIlvUIA372Igz4aU8YcNQ+TtSEgTiq+Z5DGPDVP2rshIGoiiV3PGEgOS0jX8kKFzYTRJbO5QSzV0jNBEgT2vyteh+fngFNDQhIE9LmvREGvC0QLX7CQDS9kjyaMJCkmhGvZYULYSCicE6Hm71CggEUvHPmzJHDDz9cDjvsMP084ogjxCNYGv773//qDIeYq8AbCAgDTs4SM1rCQEzhEjiNMJCAiHEvYYULYSCugumeZ/YKBQYsPVhXAD3/f/zxR8HUwlhrwCtgTQOsZ1BWVqYdEFFD4LkRBjzVjx43YSC6ZkmdQRhISskY17GHOWEghngOp5i9QoMBrDKIWQQxYyDexr2aCVBLgUmMXnnlFcHyxxiNQBhwyKgZjpIw4Gc8woCf9uxA6Kh9nKhDhoE777wzmMJ3woQJhIE4GYzn6FDWvn37yuzZs4PIz6VkEsKAo7WtcGHNgKMRIkRt9gqxZoAwkNuQbCbIrUuoe1kz4GcZwoCf9qwZcNQ+TtSEgfpVw8OcNQP168QjcitAGMitSxp7CQNpqFxLHFa4sGagFoEC2232qlkz4NkmbulBnwHWDOydWUyfsWPH6roLIfRh2DuV3FNTgZowgIWyPP2rZrpK4TthwNHK9rAiDDgaIULUZi/AwI033qid5dBpzqvDHuLFAxOjCfr16xdEGyse5q+++qoMGDAgGH2eeuopGTFiRBD6RMhuJXmowcDMmTPz6hALWCh0gN+nFTyNnhoMeD4wQ43bel9v3LhR2rZtqw8rZDpuYSpgMDB//ny5/PLLZdGiRbJ48WJd5hdL/XoEpAErC2I0QQhvvgYDN998cxD6fPrpp3L//fcTBsJ0qb1ShfzTp08fGT16tOYf+NTSpUs1fPnll4Lw1Vdfyddff63hm2++kWXLlmn49ttvZfny5dUBK3CuXLlSw6pVq2T16tW6IBcW5cJiXAhYmhuLcyGsW7dO1q9fr6GiokI2bNigobKyUhDwnEbYtGmT4AUOAct9b9myRcPWrVsFAUN8McS2qqpKAxb6wpBfCxj2iyXCEXbv3q0LhmHlUIwGwmgcBEA+gq0PglFCCPbyUYhyIjUYGDp0qBx99NFy1FFHMfyfBk2aNNHJYTBZy9lnn00Y2OvRENYOg4F58+bJscceKxdddJFcdtllCgaAA49w8cUXy1lnnSXogR0KDGBoYfPmzYPRp2XLlrpkcwj6hJWjw0uNwQCehxdeeKFccsklcumll+onviO/w+8Q8H/Xrl01dOnSRRA6d+4snTp1kgsuuEBDx44d5fzzz9dw3nnnSYcOHarDueeeK+ecc460b99eQ7t27fSlDC9mbdq00YB0wL8QzjzzTDnjjDOkdevWGk4//XQ57bTTqsOpp54qrVq1EuQ3hFNOOUVOPvlkDS1atJCTTjpJA3wD4cQTT5QTTjhBjj/+eA3NmjWTpk2bajjuuOMEAc+ZY445RgPKTwT4OiAk6SaU1GAABAQS8poMJcR4QYogSNApYSC8B9O/U1QTBnr27Ckg/ppkD7pPOyAPTZkyJTgYuO+++4LRBzUn5eXlQcDSv/MUf++pgMHAm2++GSv/wB8LEexNPsnPOGUS4sczBrUEmYWBUKvqPdNVs5kAJIo3l0JU/+zpbvwVVwGDgdD6DEyfPp19BmpZkwFVrewzEDfHp38eYABvvvn2GfB8fnvGXYhyIrWagfSzVfgxWuHCDoTh2wopNHvVHE1QCKfMVw1LD0cT1K4YCheOJqhdn9D+MRjgpEPpW4YwkL7m1THaw5wwUC1J0F/MXoSB2s2EhznnGahdH/5TtwKEgbr1KeS/hIFCqlvPta1wIQzUI1Qgf5u9CAO1G4QwULs2/Kd+BQgD9WtUqCMIA4VSNo/rWuFCGMhDrAAOMXsRBmo3BmGgdm34T/0KEAbq16hQRxAGCqVsHte1woUwkIdYARxi9iIM1G4MwkDt2vCf+hUgDNSvUaGOIAwUStk8rmuFC2EgD7ECOMTsFRoMoOc1ZiDEZCU2KYlXT2f03ucSxgFk1owmgTDgZzjCgJ/21b3TCQOORogQdWgwgKSj8J81a5Y0btxYJyTBJCU2YUnanzZBCibRGjRokI6FhmaeGwoXjibwtEC0uAkD0fRK8mjCQJJqRryWFS6EgYjCOR1u9gqlZgAyYOIRTECCiVbiTGJSiHMwMQrmzEDtBGHAKbNmNFrCgJ/hCAN+2rNmwFH7OFGHCANIEwIKXtQShBCQFkCKNwjAxqwZiJPT/c4hDPhpTxjw054w4Kh9nKhDhIE491FK5xAGsmVtwoCfvQgDftoTBhy1jxM1YSCOar7nEAZ89Y8aO2EgqmLJHU8YSE7LyFeywiXLfQZQHYylPydOnKhL6WJRmFGjRsmkSZN0ESZUW+P+sJgO9mOte/xOepGNyOLHOMHsFVKfgRi3UVKnZB0G4CdYwvfJJ5+s9q8xY8YI8iD6ZqBJBv737LPP6v9YhwFL/CKvZnEjDPhZjTDgp31R1Ayg89p7770nN9xwg/Tv318effRRXS72rrvuUkDA2t5z584VLGE9fPhwueOOOxQIsrgoE2HA0VliRp11GABMo/DHMr7Dhg1T/3rooYd0tMaCBQt0OClW+OvVq5f6GGB8yZIlwfTZiGo2wkBUxZI7njCQnJaRr2SFS5ZrBgAD8+bNk4cffljfSLC85s8//6z77r33Xtm6datUVFTIxo0bdelNHIsx8VmsHTB7sWYgclZ3O6EYYABDI+Fftlz2pk2bZPz48QrVVVVVOnQSNW5Y4x5LWmOuB+RVhKxthAE/ixEG/LQvipoBvLnMnz9fhgwZIsuXL9chZXjrR7PAwIEDFQDswQRHx7F33303YcAx35VS1MUAA+PGjVP/QiEP3wJYo9lg8uTJCgADBgyQ1q1bS7t27aSsrEyb50IZzRE1rxEGoiqW3PGEgeS0jHwle9MshpqBjh076qQ3NtFNz549Ze3atdVjzQENlZWV8sADD8icOXN0yFfW3lzMXqwZiJzV3U4oBhhAzUCTJk2kadOmOqFUq1atpLy8XIF6w4YNghq4qVOnyqpVqxTAR48erRCexX45hAE3VxHCgJ/2RVEzYM0EmHFu8eLFWuD36dNHl7G1iWcAAqjavP/++7WjEya6yRoIIJsQBhydJWbUxQID8K9t27ZpfwD0x/nwww+1OQD3Bx9EQM3BokWL5NZbb60G8ZiyuZ1GGHCTnjDgJ/3/Fy5ZrxmwZoJvv/1W+wusWLFCLrroIvnggw+0g9OaNWtk8ODB8tJLL2m7ZxbfWJBPCAOe3hIv7mKAAWsmwNoT6BOAWgAAwbJly7QGAP0GAN4IgAQ0z2EfRhpkbSMM+FmMNQN+2lcXLlmGAbz1o9DHSAFUU+I33lKmT5+uNQErV67UDk4YRYDmgYULF+pDDA+urNUOEAYcnSVm1FmHARTozzzzjI4igF/Bv/C8QNMBFoQCgGO0AXwLowvQ0XDatGl6XBahmzAQM6MncBphIAER417CCpcswwAeOHhDwQMITQH4jbBlyxZ54okndDw03my6d++uoUePHlpLgFEGhIG4OYfn5atA1mEAvvTuu++qf9k0zwACNAdMmDBBOxN++eWX2jRw7bXXyosvvqi1c1nzLbMnYcCUSP+TMJC+5tUxFgMM4B7wkELAdwv4bW2ZqAXAcEMLcHg85HBsljakF2lnB8LsWC3rMIA892//gvrYByiwT/gY+gzgfrEvqxvS37dvX5k9e7Y2e+A5wS0dBQgD6eicMxYrXLJcM5Dzxop0p9mLMJAdA2cdBrKjdDIpJQwko2OcqxAG4qiW0DlWuBAGEhK0wJcxexEGCix0gpcnDCQoZgqXIgykIHItURAGahEmjd1WuIQEA0gTquasajKUzxCaFcxehIE0vCOZOEKDAfpX3XYlDNStTyH/JQwUUt16rm2FSygwgPSgHRKTBZ100knSvHlzadGihWtAGpCW3r17ax8EpNFrM3sRBrwsED3e0GAA/vX000+rT4XiX0jHjBkz3P0L1iUMRM/jSZ1BGEhKyRjXscIlJBiAM2KegHPOOUeHMKHXPxYb8grQBoXvlVdeqR2KCAMxMloJnxIaDCA9WMwLCwohb4fgXzUXD/PusEcY8HNWwoCf9tqbHpk/NBjA3ACdO3fW3v82thlvNGkHxI0RCJ999pkOS/Sem8DgjTUDjk4TMeoQYQBzcmC4LfI20pe2X9WMDxMZYWZQLEEO/yIMRMxgRXQ4YcDRmFa4hAYDmDyoa9euwbyJf/HFF4QBx3ya5ahDhQFMJBRK4fvggw/KpEmTgkkPhxb6eBxhwEd3jZUwULf4pg9hoG6d+G/tChAGatcG/0AfwkDdGpXKv4QBR0tbYceagdxGMH0IA7n14d76FSAM1K0RYaBufUrpX8KAo7WtsCMM5DaC6UMYyK0P99avAGGgbo0IA3XrU0r/EgYcrW2FHWEgtxFMHyyNfNVVV+kKiOj85Dn3AaZ8nTdvnvTq1cu9T0Vu1bi3pgIGAyNGjAgm/2A0QUh9BsrKyrQDITo0huBft99+u8yaNSuIPgw181KxfycMOFrYCjvAQJs2bXRucRR06NHrERA3CjuMJujSpYt7YWf6AAYwugGfS5cuFSzM4hVQS/H8888rDKCgQRq5hasARqRghb/+/fsHk3/69euncw2E0oEQMFBeXi6ff/55EP513XXXEQYcXIow4CC6RYmCBCS+bds2ad++vZxyyinSqlUrt9CyZUudDOWEE06QTp06BQMDeEgdc8wxWjtw9dVXyzXXXOMWEH+3bt1k6NChajvCgOXmMD8BuFOnTpVLL71UsGKmZ95B3Kjhgo9jaGFIMNC2bVudyyME/7rwwgt1OWY8G+lf6fkVYSA9rXPGhBoAvGFWVVXJDz/8oAE1BV6hsrJSx/WHBgOXXHKJagNwglaeYfv27Vrl7D0mO2eG4s49FICNUOju2LHDNc9YfsXS3gMHDgwOBp577jn1L0wuZmn1+oR/GSgRBvbIzgX9QRgoqLz1XxyZHQFvMCBhz2CT/GAGwtCaCULpMwA7IZjd6rcwj/BWALYCFJjtPD/RDDds2LDg+gxMmDChepIxT30sbtgLduOWngKEgfS0Dj4mOB9qKTjpUPCmYgIzqgD8CzMQhtSBMKR5BjJq1qJINmGgKMyYzE0QBpLRkVehArUpQBioTRnu91aAMOBtgYDiJwwEZAwmpSgVIAwUpVmL4qYIA0VhxmRugjCQjI68ChWoTQHCQG3KcL+3AoQBbwsEFD9hICBjMClFqQBhoCjNWhQ3RRgoCjMmcxM1YQCjCdDzGb170bPXIyBupAGTDWGMOB6kSCM3KpBVBTBiBxP8oAMhlg/G6CEP37I4MYQPkw6FsmphVu1aDOkmDBSDFRO6BxS0eDitXr1aGjduLKeddpq0bt3aNSANLVq0UBjAg5QwkJCxeRkXBeBfmBq5WbNmwfhXkyZNFAboXy5ZIphICQPBmCKMhOBtHG8sFRUVsnbt2iDC+vXrdSIUpI0wEEY+YSriKYA8vGvXLtmwYUMQvgUfh3/t3LlTXwToX/HsWgxnEQaKwYq8BypABagAFaACDVCAMNAA8XgqFaACVIAKUIFiUIAwUAxW5D1QASpABagAFWiAAoSBBojHU6kAFaACVIAKFIMChIFisCLvgQpQASpABahAAxQgDDRAPJ5KBagAFaACVKAYFPgfOCTwuAX4BEAAAAAASUVORK5CYII=)\r\n",
        "\r\n",
        "Dane:\r\n",
        "\r\n",
        "![image.png](data:image/png;base64,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)\r\n",
        "\r\n",
        "\r\n",
        "Zmiennymi decyzyjnymi były prądy, ograniczone od \"góry\" i od \"dołu\". \r\n",
        "\r\n",
        "Ograniczenia jakie występują to maksymalne prądy przepływające \"górny\" zakres oraz zależności wynikające z praw Kirchoffa.\r\n",
        "\r\n",
        "W wyniku programu otrzymujemy wszystkie prądy oraz wyróżniony największy prąd."
      ]
    },
    {
      "cell_type": "markdown",
      "metadata": {
        "id": "9coJcdtV8RHi"
      },
      "source": [
        "Standardowa instalacja pulpa"
      ]
    },
    {
      "cell_type": "code",
      "metadata": {
        "id": "Buv0PjeZ8PzQ"
      },
      "source": [
        "!pip install pulp\r\n",
        "\r\n",
        "!sudo apt-get install coinor-cbc glpk-utils coinor-clp"
      ],
      "execution_count": null,
      "outputs": []
    },
    {
      "cell_type": "code",
      "metadata": {
        "id": "q96ohNh3OYTA",
        "colab": {
          "base_uri": "https://localhost:8080/"
        },
        "outputId": "54de08a0-e5cf-48d8-a6f2-cc896cdfc9d2"
      },
      "source": [
        "from pulp import *\r\n",
        "import numpy as np\r\n",
        "\r\n",
        "# Name and type of problem\r\n",
        "prob = LpProblem(\"The current problem\",LpMaximize)\r\n",
        "\r\n",
        "# The 5 variables of currents\r\n",
        "i1=LpVariable(\"I1\", 0, 2, LpContinuous)\r\n",
        "i2=LpVariable(\"I2\", 0, 3, LpContinuous)\r\n",
        "i3=LpVariable(\"I3\", 0, 4, LpContinuous)\r\n",
        "i4=LpVariable(\"I4\", 0, 2, LpContinuous)\r\n",
        "i5=LpVariable(\"I5\", 0, 2, LpContinuous)\r\n",
        " \r\n",
        "# Constants of resistances\r\n",
        "R = (8.0, 6.0, 4.0, 10.0, 8.0)\r\n",
        "\r\n",
        "# The main function for sum of currents in the circuit\r\n",
        "prob += i1+i2+i3+i4+i5, \"max current\"\r\n",
        "\r\n",
        "# Constraints resulting from Kirchhoff's current and voltage laws\r\n",
        "prob += i1+i2 == i3, \"1\" \r\n",
        "prob += i3-i4 == i5, \"2\"\r\n",
        "prob += i1*R[0] - i2*R[1] == 0, \"3\"\r\n",
        "prob += i4*R[3] - i5*R[4] == 0, \"4\"\r\n",
        "\r\n",
        "prob.writeLP(\"Resistance_circuit.lp\")\r\n",
        "\r\n",
        "# The solution of problem\r\n",
        "prob.solve()\r\n",
        "print(\"Status of problem:\", LpStatus[prob.status], \"\\n\")\r\n",
        "\r\n",
        "# List currents and find the greatest one\r\n",
        "Imax = 0\r\n",
        "for v in prob.variables():\r\n",
        "    print(v.name, \"=\", v.varValue, \"A\")\r\n",
        "    if (v.varValue >= Imax):\r\n",
        "      Imax = v.varValue \r\n",
        "print()\r\n",
        "\r\n",
        "print(\"Imax = \", Imax, \"A\\n\")"
      ],
      "execution_count": 2,
      "outputs": [
        {
          "output_type": "stream",
          "text": [
            "Status of problem: Optimal \n",
            "\n",
            "I1 = 1.5428571 A\n",
            "I2 = 2.0571429 A\n",
            "I3 = 3.6 A\n",
            "I4 = 1.6 A\n",
            "I5 = 2.0 A\n",
            "\n",
            "Imax =  3.6 A\n",
            "\n"
          ],
          "name": "stdout"
        },
        {
          "output_type": "stream",
          "text": [
            "/usr/local/lib/python3.6/dist-packages/pulp/pulp.py:1199: UserWarning: Spaces are not permitted in the name. Converted to '_'\n",
            "  warnings.warn(\"Spaces are not permitted in the name. Converted to '_'\")\n"
          ],
          "name": "stderr"
        }
      ]
    }
  ]
}