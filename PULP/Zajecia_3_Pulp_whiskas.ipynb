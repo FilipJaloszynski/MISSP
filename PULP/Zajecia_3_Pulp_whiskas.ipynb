{
  "nbformat": 4,
  "nbformat_minor": 0,
  "metadata": {
    "colab": {
      "name": "Untitled3.ipynb",
      "provenance": []
    },
    "kernelspec": {
      "name": "python3",
      "display_name": "Python 3"
    }
  },
  "cells": [
    {
      "cell_type": "code",
      "metadata": {
        "id": "oVe1Qewwy67b"
      },
      "source": [
        ""
      ],
      "execution_count": null,
      "outputs": []
    },
    {
      "cell_type": "markdown",
      "metadata": {
        "id": "gEt5XAed0avp"
      },
      "source": [
        "Na  zajęciach uczyliśmy się podstaw Pulpa. \r\n",
        "Zaczęliśmy od instalacji pulpa, która odbywa się przez wpisanie odpowiednich linijek kodu:"
      ]
    },
    {
      "cell_type": "code",
      "metadata": {
        "id": "9O71-FOQ015V"
      },
      "source": [
        "!pip install pulp\r\n",
        "!sudo apt-get install coinor-cbc glpk-utils coinor-clp\r\n",
        "\r\n"
      ],
      "execution_count": null,
      "outputs": []
    },
    {
      "cell_type": "markdown",
      "metadata": {
        "id": "hvSpTAV9-pJu"
      },
      "source": [
        "Naszym celem na zajęciach było przeczytanie materiałów dotyczących pulp'a na stronie https://coin-or.github.io/pulp/main/index.html. Następnie należało przejść do \"blending problem\" a mianowicie należało przepisać kod do swojego notebooka. \r\n",
        "Problem, który mielismy rozwiązać:\r\n",
        "Minimalizacja kosztów produkcji puszki karmy. Zmiennymi decyzyjnymi w tym przypadku są masy składników wrzucanych do puszki(x1,x2,x3,x4,x5,x6,x7). Ograniczeniami są minimalne wartości składników odżywczych oraz całkowita masa puszki. Puszka miała 100g.\r\n"
      ]
    },
    {
      "cell_type": "markdown",
      "metadata": {
        "id": "EtpDsTafJbJV"
      },
      "source": [
        "Dane:\r\n",
        "\r\n",
        "![obraz_2020-12-26_185945.png](data:image/png;base64,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)\r\n",
        "\r\n",
        "\r\n",
        "Minimalne wartości odżywcze na 100g puszki:\r\n",
        "\r\n",
        "Protein - 8\r\n",
        "\r\n",
        "Fat - 6\r\n",
        "\r\n",
        "Fibre - 2\r\n",
        "\r\n",
        "Salt - 0.4\r\n",
        "\r\n",
        "Vitamina B - 0.8"
      ]
    },
    {
      "cell_type": "code",
      "metadata": {
        "colab": {
          "base_uri": "https://localhost:8080/"
        },
        "id": "mi2t8UJLp0NA",
        "outputId": "9919d9c3-b478-41cf-ff1c-92a7ae1bb514"
      },
      "source": [
        "from pulp import *\r\n",
        "\r\n",
        "# Creates a list of the Ingredients\r\n",
        "Ingredients = ['CHICKEN', 'BEEF', 'MUTTON', 'RICE', 'WHEAT', 'GEL','SARDINES']\r\n",
        "\r\n",
        "# A dictionary of the costs of each of the Ingredients is created\r\n",
        "\r\n",
        "costs = {'CHICKEN': 0.013, \r\n",
        "         'BEEF': 0.008, \r\n",
        "         'MUTTON': 0.010, \r\n",
        "         'RICE': 0.002, \r\n",
        "         'WHEAT': 0.005, \r\n",
        "         'GEL': 0.001,\r\n",
        "         'SARDINES': 0.020}\r\n",
        "\r\n",
        "# A dictionary of the protein percent in each of the Ingredients is created\r\n",
        "\r\n",
        "proteinPercent = {'CHICKEN': 0.100, \r\n",
        "                  'BEEF': 0.200, \r\n",
        "                  'MUTTON': 0.150, \r\n",
        "                  'RICE': 0.000, \r\n",
        "                  'WHEAT': 0.040, \r\n",
        "                  'GEL': 0.000,\r\n",
        "                  'SARDINES': 0.250}\r\n",
        "\r\n",
        "# A dictionary of the fat percent in each of the Ingredients is created\r\n",
        "\r\n",
        "fatPercent = {'CHICKEN': 0.080, \r\n",
        "              'BEEF': 0.100, \r\n",
        "              'MUTTON': 0.110, \r\n",
        "              'RICE': 0.010, \r\n",
        "              'WHEAT': 0.010, \r\n",
        "              'GEL': 0.000,\r\n",
        "              'SARDINES': 0.110}\r\n",
        "\r\n",
        "# A dictionary of the fibre percent in each of the Ingredients is created\r\n",
        "\r\n",
        "fibrePercent = {'CHICKEN': 0.001, \r\n",
        "                'BEEF': 0.005, \r\n",
        "                'MUTTON': 0.003, \r\n",
        "                'RICE': 0.100, \r\n",
        "                'WHEAT': 0.150, \r\n",
        "                'GEL': 0.000,\r\n",
        "                'SARDINES': 0.000}\r\n",
        "\r\n",
        "# A dictionary of the salt percent in each of the Ingredients is created\r\n",
        "\r\n",
        "saltPercent = {'CHICKEN': 0.002, \r\n",
        "               'BEEF': 0.005, \r\n",
        "               'MUTTON': 0.007, \r\n",
        "               'RICE': 0.002, \r\n",
        "               'WHEAT': 0.008, \r\n",
        "               'GEL': 0.000,\r\n",
        "               'SARDINES': 0.001}\r\n",
        "\r\n",
        "vitaminBPercent = {'CHICKEN': 0.003, \r\n",
        "               'BEEF': 0.026, \r\n",
        "               'MUTTON': 0.026, \r\n",
        "               'RICE': 0.002, \r\n",
        "               'WHEAT': 0.008, \r\n",
        "               'GEL': 0.000,\r\n",
        "               'SARDINES': 0.089}\r\n",
        "\r\n",
        "# Create the 'prob' variable to contain the problem data\r\n",
        "prob = LpProblem(\"The Whiskas Problem\", LpMinimize)\r\n",
        "\r\n",
        "# A dictionary called 'ingredient_vars' is created to contain the referenced Variables\r\n",
        "ingredient_vars = LpVariable.dicts(\"Ingr\",Ingredients,0)\r\n",
        "\r\n",
        "prob += lpSum([costs[i]*ingredient_vars[i] for i in Ingredients]), \"Total Cost of Ingredients per can\"\r\n",
        "\r\n",
        "# The constraints are added to 'prob'\r\n",
        "prob += lpSum([ingredient_vars[i] for i in Ingredients]) == 100, \"PercentagesSum\"\r\n",
        "prob += lpSum([proteinPercent[i] * ingredient_vars[i] for i in Ingredients]) >= 8.0, \"ProteinRequirement\"\r\n",
        "prob += lpSum([fatPercent[i] * ingredient_vars[i] for i in Ingredients]) >= 6.0, \"FatRequirement\"\r\n",
        "prob += lpSum([fibrePercent[i] * ingredient_vars[i] for i in Ingredients]) <= 2.0, \"FibreRequirement\"\r\n",
        "prob += lpSum([saltPercent[i] * ingredient_vars[i] for i in Ingredients]) <= 0.4, \"SaltRequirement\"             \r\n",
        "prob += lpSum([vitaminBPercent[i] * ingredient_vars[i] for i in Ingredients]) >= 0.8, \"VitaminBRequirement\"\r\n",
        "\r\n",
        "# The problem data is written to an .lp file\r\n",
        "prob.writeLP(\"WhiskasModel.lp\")\r\n",
        "\r\n",
        "# Solve given problem\r\n",
        "prob.solve()\r\n",
        "\r\n",
        "Content = []\r\n",
        "\r\n",
        "# Get content of every ingredient\r\n",
        "for v in prob.variables():\r\n",
        "    Content.append(str(v.varValue)+'g')\r\n",
        "    \r\n",
        "\r\n",
        "# Print summary\r\n",
        "summary = \"Final product will cost \" + str(value(prob.objective)) + \" per can\" + \" and will contain:\\n\"\r\n",
        "\r\n",
        "ingr_cont = [\":\".join((ingr, str(cont))) for ingr,cont in zip(Ingredients,Content)]\r\n",
        "ingr_cont = \", \".join(ingr_cont)\r\n",
        "\r\n",
        "summary += ingr_cont\r\n",
        "\r\n",
        "print(summary)"
      ],
      "execution_count": 7,
      "outputs": [
        {
          "output_type": "stream",
          "text": [
            "Final product will cost 0.52 per can and will contain:\n",
            "CHICKEN:60.0g, BEEF:0.0g, MUTTON:40.0g, RICE:0.0g, WHEAT:0.0g, GEL:0.0g, SARDINES:0.0g\n"
          ],
          "name": "stdout"
        },
        {
          "output_type": "stream",
          "text": [
            "/usr/local/lib/python3.6/dist-packages/pulp/pulp.py:1199: UserWarning: Spaces are not permitted in the name. Converted to '_'\n",
            "  warnings.warn(\"Spaces are not permitted in the name. Converted to '_'\")\n"
          ],
          "name": "stderr"
        }
      ]
    }
  ]
}