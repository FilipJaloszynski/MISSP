{
  "nbformat": 4,
  "nbformat_minor": 0,
  "metadata": {
    "kernelspec": {
      "display_name": "Python 3",
      "language": "python",
      "name": "python3"
    },
    "language_info": {
      "codemirror_mode": {
        "name": "ipython",
        "version": 3
      },
      "file_extension": ".py",
      "mimetype": "text/x-python",
      "name": "python",
      "nbconvert_exporter": "python",
      "pygments_lexer": "ipython3",
      "version": "3.7.3"
    },
    "colab": {
      "name": "podstawy_python_jupyter.ipynb",
      "provenance": [],
      "collapsed_sections": []
    }
  },
  "cells": [
    {
      "cell_type": "code",
      "metadata": {
        "id": "3gbeplxrEPP3",
        "outputId": "6dd7d134-d9af-4982-c956-a0f349880efa"
      },
      "source": [
        "# komentarz\n",
        "\n",
        "# if\n",
        "\n",
        "wielkosc = 5\n",
        "\n",
        "print(wielkosc)"
      ],
      "execution_count": null,
      "outputs": [
        {
          "output_type": "stream",
          "text": [
            "5\n"
          ],
          "name": "stdout"
        }
      ]
    },
    {
      "cell_type": "code",
      "metadata": {
        "id": "xxBqQO_REPQA",
        "outputId": "8390b4a6-9271-45c1-c71e-bdc910ed0d33"
      },
      "source": [
        "if wielkosc >6:\n",
        "    print(\"ale duze\")\n",
        "elif wielkosc < 3:\n",
        "    print(\"malutkie\")\n",
        "    print('franek')\n",
        "else:\n",
        "    print(\"w sam raz\")"
      ],
      "execution_count": null,
      "outputs": [
        {
          "output_type": "stream",
          "text": [
            "w sam raz\n"
          ],
          "name": "stdout"
        }
      ]
    },
    {
      "cell_type": "code",
      "metadata": {
        "id": "2tp36DA6EPQE",
        "outputId": "07ca64ec-a5bd-4f58-f766-3838e5335c0d"
      },
      "source": [
        "studenci = [\"Ania\", \"Zosia\", \"Kasia\", \"Franek\"]\n",
        "\n",
        "print(studenci)"
      ],
      "execution_count": null,
      "outputs": [
        {
          "output_type": "stream",
          "text": [
            "['Ania', 'Zosia', 'Kasia', 'Franek']\n"
          ],
          "name": "stdout"
        }
      ]
    },
    {
      "cell_type": "code",
      "metadata": {
        "id": "BTnh1UzxEPQH",
        "outputId": "d00d5d54-8dcc-4ee7-e0b0-807d0038dad0"
      },
      "source": [
        "studenci[0][1]"
      ],
      "execution_count": null,
      "outputs": [
        {
          "output_type": "execute_result",
          "data": {
            "text/plain": [
              "'Ania'"
            ]
          },
          "metadata": {
            "tags": []
          },
          "execution_count": 16
        }
      ]
    },
    {
      "cell_type": "code",
      "metadata": {
        "scrolled": true,
        "id": "0N5TQrv-EPQL",
        "outputId": "5164686b-65b9-4a2f-bc71-2e5829b6697a"
      },
      "source": [
        "for student in studenci:\n",
        "    print(\"student ma na imie:\", student)\n",
        "    \n",
        "for student in studenci:\n",
        "    print(student)\n",
        "    if student[0]==\"A\":\n",
        "        print(\"student na poczatku alfabetu\")"
      ],
      "execution_count": null,
      "outputs": [
        {
          "output_type": "stream",
          "text": [
            "student ma na imie: Ania\n",
            "student ma na imie: Zosia\n",
            "student ma na imie: Kasia\n",
            "student ma na imie: Franek\n",
            "Ania\n",
            "student na poczatku alfabetu\n",
            "Zosia\n",
            "Kasia\n",
            "Franek\n"
          ],
          "name": "stdout"
        }
      ]
    },
    {
      "cell_type": "code",
      "metadata": {
        "id": "5tAsQVvSEPQO",
        "outputId": "196ef0c0-2614-4c7a-ec53-fcc4e87ba66b"
      },
      "source": [
        "for numer, student in enumerate(studenci):\n",
        "    print(\"student {} ma numer {}\".format(student,numer))"
      ],
      "execution_count": null,
      "outputs": [
        {
          "output_type": "stream",
          "text": [
            "student Ania ma numer 0\n",
            "student Zosia ma numer 1\n",
            "student Kasia ma numer 2\n",
            "student Franek ma numer 3\n"
          ],
          "name": "stdout"
        }
      ]
    },
    {
      "cell_type": "code",
      "metadata": {
        "id": "wH4YxgY0EPQR",
        "outputId": "9d618167-e990-4f4c-9b0c-857331aac0c0"
      },
      "source": [
        "oceny = [2,2,5,3]\n",
        "\n",
        "for numer, student in enumerate(studenci):\n",
        "    print(\"student {} ma numer {} i ocenę {}\".format(student,numer,oceny[numer]))\n",
        "\n",
        "print(\"--\"*20)    \n",
        "for number, (student, ocena) in enumerate(zip(studenci,oceny)):\n",
        "    print(\"student {} ma numer {} i ocenę {}\".format(student,number,ocena))"
      ],
      "execution_count": null,
      "outputs": [
        {
          "output_type": "stream",
          "text": [
            "student Ania ma numer 0 i ocenę 2\n",
            "student Zosia ma numer 1 i ocenę 2\n",
            "student Kasia ma numer 2 i ocenę 5\n",
            "student Franek ma numer 3 i ocenę 3\n",
            "----------------------------------------\n",
            "student Ania ma numer 0 i ocenę 2\n",
            "student Zosia ma numer 1 i ocenę 2\n",
            "student Kasia ma numer 2 i ocenę 5\n",
            "student Franek ma numer 3 i ocenę 3\n"
          ],
          "name": "stdout"
        }
      ]
    },
    {
      "cell_type": "code",
      "metadata": {
        "id": "3CEWWskDEPQU"
      },
      "source": [
        "trzy_elementy= [1,2,3]\n",
        "pierwszy,drugi,trzeci= trzy_elementy"
      ],
      "execution_count": null,
      "outputs": []
    },
    {
      "cell_type": "code",
      "metadata": {
        "id": "mlDHCKccEPQX",
        "outputId": "4b223f91-d806-4682-d3e8-54e0a5a6c04d"
      },
      "source": [
        "n = 1\n",
        "\n",
        "while(n < 10):\n",
        "    print(n)\n",
        "    n+=1"
      ],
      "execution_count": null,
      "outputs": [
        {
          "output_type": "stream",
          "text": [
            "1\n",
            "2\n",
            "3\n",
            "4\n",
            "5\n",
            "6\n",
            "7\n",
            "8\n",
            "9\n"
          ],
          "name": "stdout"
        }
      ]
    },
    {
      "cell_type": "code",
      "metadata": {
        "id": "N3HsLt34EPQc"
      },
      "source": [
        "def dodaj_dwa(liczba):\n",
        "    return liczba+2\n",
        "\n",
        "def dodaj_trzy(liczba):\n",
        "    return liczba+3\n",
        "\n",
        "def dodaj_dwie_liczby(liczba1,liczba2)\n",
        "    return liczba1+liczba2\n",
        "\n",
        "\n",
        "dodaj_cztery = lambda liczba:liczba+4"
      ],
      "execution_count": null,
      "outputs": []
    },
    {
      "cell_type": "code",
      "metadata": {
        "id": "hqJBpBbSEPQf",
        "outputId": "ba68e945-2da1-4f7d-b280-562bff31a001"
      },
      "source": [
        "funkcje=[dodaj_dwa,dodaj_trzy,dodaj_cztery]\n",
        "\n",
        "jakis_nr= 10\n",
        "\n",
        "for funkcja in funkcje:\n",
        "    print(funkcja(jakis_nr))"
      ],
      "execution_count": null,
      "outputs": [
        {
          "output_type": "stream",
          "text": [
            "12\n",
            "13\n",
            "14\n"
          ],
          "name": "stdout"
        }
      ]
    },
    {
      "cell_type": "code",
      "metadata": {
        "id": "TpQgwVXdEPQi",
        "outputId": "e7fe90af-9baa-4793-92e6-249a7e7cd9c8"
      },
      "source": [
        "studenci[0]\n",
        "studenci[1:]\n",
        "studenci[:-1]"
      ],
      "execution_count": null,
      "outputs": [
        {
          "output_type": "execute_result",
          "data": {
            "text/plain": [
              "['Ania', 'Zosia', 'Kasia']"
            ]
          },
          "metadata": {
            "tags": []
          },
          "execution_count": 35
        }
      ]
    },
    {
      "cell_type": "code",
      "metadata": {
        "id": "aQtxxhfjEPQn",
        "outputId": "7da50c45-3ed2-4334-96f4-ea9cedbffc98",
        "colab": {
          "base_uri": "https://localhost:8080/",
          "height": 105
        }
      },
      "source": [
        "#### challenge 0.1\n",
        "\n",
        "zajecia = [\"wf\",\"informatyka\",\"relax\",\"mispy\",\"piateczek\"]\n",
        "\n",
        "dnityg= [\"Pon\",\"Wto\",\"Sro\",\"Czwar\",\"Pio\"]\n",
        "\n",
        "\n",
        "# wyprintuj zajecia od srody do piatku\n",
        "odsrody = zajecia[dnityg.index(\"Sro\"):]\n",
        "print(odsrody)\n",
        "# wyprintuj oprocz srody\n",
        "for oprocz_srody,dzien in zip(zajecia,dnityg):\n",
        "    if dzien != \"Sro\":\n",
        "        print(oprocz_srody)"
      ],
      "execution_count": 7,
      "outputs": [
        {
          "output_type": "stream",
          "text": [
            "['relax', 'mispy', 'piateczek']\n",
            "wf\n",
            "informatyka\n",
            "mispy\n",
            "piateczek\n"
          ],
          "name": "stdout"
        }
      ]
    },
    {
      "cell_type": "code",
      "metadata": {
        "id": "V2_sv-aOEPQq",
        "outputId": "614e3fff-3788-489f-ef14-6ef8b3c67cb8",
        "colab": {
          "base_uri": "https://localhost:8080/",
          "height": 123
        }
      },
      "source": [
        "#### challenge 0.2\n",
        "\n",
        "zajecia = [[\"wf\"],\n",
        "           [\"informatyka\", \"nauka czytania\"],\n",
        "           [\"relax\", \"jedzenie\"],\n",
        "           [\"mispy\",\"mispy w domu\"],\n",
        "           [\"piateczek\", \"praca domowa z mispow\", \"Ilovemispy\", \"mispy w czasie snu\"]\n",
        "          ]\n",
        "\n",
        "dnityg= [\"Pon\",\"Wto\",\"Sro\",\"Czwar\",\"Pio\"]\n",
        "\n",
        "# zdefiniuj funkcje ktora poda ile jest zajec danego dnia\n",
        "# lista_zajec_z_dnia -> ile ich jest\n",
        "\n",
        "# po\n",
        "# posortuj dni po najbardziej zajetych\n",
        "def ile_zajec(dnityg, zajecia):\n",
        "    ilosci_zajec = [len(z) for z in zajecia]\n",
        "    out = []\n",
        "    for x in zip(dnityg,ilosci_zajec):\n",
        "        print(x)\n",
        "        out.append(x)\n",
        "    return out\n",
        "ilosci_zajec = ile_zajec(dnityg,zajecia)\n",
        "def mysort(e):\n",
        "    return e[1]\n",
        "ilosci_zajec.sort(key=mysort)\n",
        "print(ilosci_zajec)\n",
        "\n",
        "\n",
        "#### challenge 0.3\n",
        "\n",
        "# napisz program ktory zdajdzie dzien z najwieksza iloscia mispow"
      ],
      "execution_count": 1,
      "outputs": [
        {
          "output_type": "stream",
          "text": [
            "('Pon', 1)\n",
            "('Wto', 2)\n",
            "('Sro', 2)\n",
            "('Czwar', 2)\n",
            "('Pio', 4)\n",
            "[('Pon', 1), ('Wto', 2), ('Sro', 2), ('Czwar', 2), ('Pio', 4)]\n"
          ],
          "name": "stdout"
        }
      ]
    },
    {
      "cell_type": "code",
      "metadata": {
        "id": "F67gqbNnEPQt",
        "outputId": "3e55e514-390a-448d-bbbb-1f0e9e4d5ddb"
      },
      "source": [
        "len(zajecia)\n",
        "\n",
        "zajecia[4][1]\n",
        "\n",
        "\"Ma\" in \"MojaMaMa\"\n",
        "\n",
        "liczby=[\"22\",\"11\",\"33\",\"100\"]\n",
        "liczby_i_nazwy= [(\"22\",\"dwadziescia dwa\"),\n",
        "                 (\"11\",\"jedenascie\"),\n",
        "        (\"33\",\"trzydziesci trzy\"),(\"100\",\"sto\")]\n",
        "sorted(liczby)\n",
        "\n",
        "sorted(liczby, key=int)\n",
        "\n",
        "liczby_kolejnosc= enumerate(liczby)\n",
        "\n",
        "def czy_jest_jeden(liczba):\n",
        "\n",
        "    if \"1\" in liczba:\n",
        "        return 1\n",
        "    else:\n",
        "        return 0\n",
        "def na_liczbe(krotka):\n",
        "         return int(krotka[0])\n",
        "def na_liczbe_index(krotka):\n",
        "         return int(krotka[1])    \n",
        "sorted(liczby, key=czy_jest_jeden)\n",
        "         \n",
        "sorted(liczby_i_nazwy,key=na_liczbe)\n",
        "\n",
        "sorted(liczby_kolejnosc,key=na_liczbe_index)"
      ],
      "execution_count": null,
      "outputs": [
        {
          "output_type": "execute_result",
          "data": {
            "text/plain": [
              "[(1, '11'), (0, '22'), (2, '33'), (3, '100')]"
            ]
          },
          "metadata": {
            "tags": []
          },
          "execution_count": 51
        }
      ]
    },
    {
      "cell_type": "code",
      "metadata": {
        "id": "Y3c3qWLlEPQw",
        "outputId": "6e5dbf8b-cf7d-4ae9-d4a0-70da20556bd4"
      },
      "source": [
        "sorted(liczby_kolejnosc,key=)"
      ],
      "execution_count": null,
      "outputs": [
        {
          "output_type": "execute_result",
          "data": {
            "text/plain": [
              "<enumerate at 0x7f5efea012d0>"
            ]
          },
          "metadata": {
            "tags": []
          },
          "execution_count": 48
        }
      ]
    },
    {
      "cell_type": "code",
      "metadata": {
        "id": "U2cJSPe_EPQy"
      },
      "source": [
        ""
      ],
      "execution_count": null,
      "outputs": []
    }
  ]
}